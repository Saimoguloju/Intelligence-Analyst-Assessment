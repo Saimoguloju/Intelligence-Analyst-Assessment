{
 "cells": [
  {
   "cell_type": "code",
   "execution_count": 1,
   "id": "6ebf9e2b",
   "metadata": {},
   "outputs": [],
   "source": [
    "import pandas as pd\n",
    "import geopandas as gpd\n",
    "import folium\n",
    "from folium.plugins import HeatMap\n",
    "\n",
    "import warnings\n",
    "warnings.filterwarnings(\"ignore\")"
   ]
  },
  {
   "cell_type": "code",
   "execution_count": 2,
   "id": "58e01bc4",
   "metadata": {},
   "outputs": [],
   "source": [
    "df=pd.read_excel(\"Assingment_Dataset.xlsx\")"
   ]
  },
  {
   "cell_type": "code",
   "execution_count": 3,
   "id": "b21ad908",
   "metadata": {},
   "outputs": [
    {
     "name": "stdout",
     "output_type": "stream",
     "text": [
      "               Location Movement Type           Timestamp Threat Level\n",
      "0     Border Post Alpha         Entry 2024-03-01 07:15:00          Low\n",
      "1     Border Post Alpha          Exit 2024-03-02 12:30:00          Low\n",
      "2     Border Post Alpha         Entry 2024-03-05 08:15:00          Low\n",
      "3     Border Post Alpha          Exit 2024-03-07 10:00:00          Low\n",
      "4     Border Post Alpha         Entry 2024-03-09 14:45:00          Low\n",
      "5     Border Post Bravo         Entry 2024-03-12 16:20:00          Low\n",
      "6     Border Post Bravo          Exit 2024-03-14 11:50:00          Low\n",
      "7     Border Post Bravo         Entry 2024-03-17 13:30:00          Low\n",
      "8     Border Post Bravo          Exit 2024-03-19 15:00:00          Low\n",
      "9     Border Post Bravo         Entry 2024-03-22 08:25:00          Low\n",
      "10    Border Post Bravo          Exit 2024-03-24 12:10:00          Low\n",
      "11  Border Post Charlie         Entry 2024-03-27 16:50:00          Low\n",
      "12  Border Post Charlie          Exit 2024-03-29 14:20:00          Low\n",
      "13  Border Post Charlie         Entry 2024-04-01 07:30:00          Low\n",
      "14  Border Post Charlie          Exit 2024-04-03 15:00:00          Low\n",
      "15  Border Post Charlie         Entry 2024-04-05 10:30:00          Low\n",
      "16  Border Post Charlie          Exit 2024-04-07 09:20:00          Low\n",
      "17    Border Post Delta         Entry 2024-04-10 14:10:00          Low\n",
      "18    Border Post Delta          Exit 2024-04-12 12:45:00          Low\n",
      "19    Border Post Delta         Entry 2024-04-15 11:00:00          Low\n",
      "20    Border Post Delta          Exit 2024-04-17 13:30:00          Low\n",
      "21    Border Post Delta         Entry 2024-04-19 08:40:00          Low\n",
      "22    Border Post Delta          Exit 2024-04-22 07:50:00          Low\n",
      "23     Border Post Echo         Entry 2024-04-24 10:20:00          Low\n",
      "24     Border Post Echo          Exit 2024-04-27 14:30:00          Low\n",
      "25     Border Post Echo         Entry 2024-04-29 12:15:00          Low\n",
      "26     Border Post Echo          Exit 2024-05-02 09:10:00          Low\n",
      "27     Border Post Echo         Entry 2024-05-04 07:25:00          Low\n",
      "28     Border Post Echo          Exit 2024-05-07 14:40:00          Low\n",
      "29     Border Post Echo         Entry 2024-05-09 08:55:00          Low\n"
     ]
    }
   ],
   "source": [
    "# Load the dataset \n",
    "data = df\n",
    "\n",
    "# Convert to GeoDataFrame\n",
    "geometry = gpd.points_from_xy(data['Longitude'], data['Latitude'])\n",
    "geo_df = gpd.GeoDataFrame(data, geometry=geometry)\n",
    "\n",
    "# Visualize high movement areas\n",
    "m = folium.Map(location=[data['Latitude'].mean(), data['Longitude'].mean()], zoom_start=6)\n",
    "\n",
    "# Add markers and heatmap\n",
    "for idx, row in geo_df.iterrows():\n",
    "    folium.Marker(\n",
    "        location=[row['Latitude'], row['Longitude']],\n",
    "        popup=f\"Location: {row['Location']}\\nMovement: {row['Movement Type']}\\nTimestamp: {row['Timestamp']}\",\n",
    "        icon=folium.Icon(color='blue' if row['Movement Type'] == 'Entry' else 'red')\n",
    "    ).add_to(m)\n",
    "\n",
    "# Add heatmap\n",
    "heat_data = [[row['Latitude'], row['Longitude']] for idx, row in geo_df.iterrows()]\n",
    "HeatMap(heat_data).add_to(m)\n",
    "\n",
    "# Save and display the map\n",
    "m.save('movement_analysis.html')\n",
    "m\n",
    "\n",
    "# Threat assessment logic\n",
    "def assess_threats(df):\n",
    "    threats = []\n",
    "    for idx, row in df.iterrows():\n",
    "        if row['Movement Type'] == 'Entry' and 'Conflict' in row['Location']:  # Example condition\n",
    "            threats.append({\n",
    "                'Location': row['Location'],\n",
    "                'Movement Type': row['Movement Type'],\n",
    "                'Timestamp': row['Timestamp'],\n",
    "                'Threat Level': 'High'\n",
    "            })\n",
    "        else:\n",
    "            threats.append({\n",
    "                'Location': row['Location'],\n",
    "                'Movement Type': row['Movement Type'],\n",
    "                'Timestamp': row['Timestamp'],\n",
    "                'Threat Level': 'Low'\n",
    "            })\n",
    "    return pd.DataFrame(threats)\n",
    "\n",
    "# Apply threat assessment\n",
    "threat_df = assess_threats(geo_df)\n",
    "print(threat_df)\n"
   ]
  },
  {
   "cell_type": "code",
   "execution_count": null,
   "id": "91661e22",
   "metadata": {},
   "outputs": [],
   "source": []
  }
 ],
 "metadata": {
  "kernelspec": {
   "display_name": "Python 3 (ipykernel)",
   "language": "python",
   "name": "python3"
  },
  "language_info": {
   "codemirror_mode": {
    "name": "ipython",
    "version": 3
   },
   "file_extension": ".py",
   "mimetype": "text/x-python",
   "name": "python",
   "nbconvert_exporter": "python",
   "pygments_lexer": "ipython3",
   "version": "3.10.9"
  }
 },
 "nbformat": 4,
 "nbformat_minor": 5
}
